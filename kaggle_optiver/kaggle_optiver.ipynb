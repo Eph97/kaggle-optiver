{
 "cells": [
  {
   "cell_type": "code",
   "execution_count": 1,
   "metadata": {
    "_cell_guid": "b1076dfc-b9ad-4769-8c92-a6c4dae69d19",
    "_uuid": "8f2839f25d086af736a60e9eeb907d3b93b6e0e5",
    "execution": {
     "iopub.execute_input": "2023-08-18T21:57:53.266882Z",
     "iopub.status.busy": "2023-08-18T21:57:53.266515Z",
     "iopub.status.idle": "2023-08-18T21:57:53.350948Z",
     "shell.execute_reply": "2023-08-18T21:57:53.349490Z",
     "shell.execute_reply.started": "2023-08-18T21:57:53.266850Z"
    }
   },
   "outputs": [
    {
     "name": "stdout",
     "output_type": "stream",
     "text": [
      "/kaggle/input/jpx-tokyo-stock-exchange-prediction/stock_list.csv\n",
      "/kaggle/input/jpx-tokyo-stock-exchange-prediction/example_test_files/sample_submission.csv\n",
      "/kaggle/input/jpx-tokyo-stock-exchange-prediction/example_test_files/options.csv\n",
      "/kaggle/input/jpx-tokyo-stock-exchange-prediction/example_test_files/financials.csv\n",
      "/kaggle/input/jpx-tokyo-stock-exchange-prediction/example_test_files/secondary_stock_prices.csv\n",
      "/kaggle/input/jpx-tokyo-stock-exchange-prediction/example_test_files/trades.csv\n",
      "/kaggle/input/jpx-tokyo-stock-exchange-prediction/example_test_files/stock_prices.csv\n",
      "/kaggle/input/jpx-tokyo-stock-exchange-prediction/jpx_tokyo_market_prediction/competition.cpython-37m-x86_64-linux-gnu.so\n",
      "/kaggle/input/jpx-tokyo-stock-exchange-prediction/jpx_tokyo_market_prediction/__init__.py\n",
      "/kaggle/input/jpx-tokyo-stock-exchange-prediction/data_specifications/stock_fin_spec.csv\n",
      "/kaggle/input/jpx-tokyo-stock-exchange-prediction/data_specifications/trades_spec.csv\n",
      "/kaggle/input/jpx-tokyo-stock-exchange-prediction/data_specifications/stock_price_spec.csv\n",
      "/kaggle/input/jpx-tokyo-stock-exchange-prediction/data_specifications/options_spec.csv\n",
      "/kaggle/input/jpx-tokyo-stock-exchange-prediction/data_specifications/stock_list_spec.csv\n",
      "/kaggle/input/jpx-tokyo-stock-exchange-prediction/train_files/options.csv\n",
      "/kaggle/input/jpx-tokyo-stock-exchange-prediction/train_files/financials.csv\n",
      "/kaggle/input/jpx-tokyo-stock-exchange-prediction/train_files/secondary_stock_prices.csv\n",
      "/kaggle/input/jpx-tokyo-stock-exchange-prediction/train_files/trades.csv\n",
      "/kaggle/input/jpx-tokyo-stock-exchange-prediction/train_files/stock_prices.csv\n",
      "/kaggle/input/jpx-tokyo-stock-exchange-prediction/supplemental_files/options.csv\n",
      "/kaggle/input/jpx-tokyo-stock-exchange-prediction/supplemental_files/financials.csv\n",
      "/kaggle/input/jpx-tokyo-stock-exchange-prediction/supplemental_files/secondary_stock_prices.csv\n",
      "/kaggle/input/jpx-tokyo-stock-exchange-prediction/supplemental_files/trades.csv\n",
      "/kaggle/input/jpx-tokyo-stock-exchange-prediction/supplemental_files/stock_prices.csv\n"
     ]
    }
   ],
   "source": [
    "# This Python 3 environment comes with many helpful analytics libraries installed\n",
    "# It is defined by the kaggle/python Docker image: https://github.com/kaggle/docker-python\n",
    "# For example, here's several helpful packages to load\n",
    "\n",
    "import numpy as np # linear algebra\n",
    "import pandas as pd # data processing, CSV file I/O (e.g. pd.read_csv)\n",
    "\n",
    "# Input data files are available in the read-only \"../input/\" directory\n",
    "# For example, running this (by clicking run or pressing Shift+Enter) will list all files under the input directory\n",
    "\n",
    "import os\n",
    "for dirname, _, filenames in os.walk('/kaggle/input'):\n",
    "    for filename in filenames:\n",
    "        print(os.path.join(dirname, filename))\n",
    "\n",
    "# You can write up to 20GB to the current directory (/kaggle/working/) that gets preserved as output when you create a version using \"Save & Run All\" \n",
    "# You can also write temporary files to /kaggle/temp/, but they won't be saved outside of the current session"
   ]
  },
  {
   "cell_type": "code",
   "execution_count": 49,
   "metadata": {
    "execution": {
     "iopub.execute_input": "2023-08-18T22:38:26.851862Z",
     "iopub.status.busy": "2023-08-18T22:38:26.851477Z",
     "iopub.status.idle": "2023-08-18T22:38:35.853787Z",
     "shell.execute_reply": "2023-08-18T22:38:35.852860Z",
     "shell.execute_reply.started": "2023-08-18T22:38:26.851831Z"
    }
   },
   "outputs": [
    {
     "name": "stderr",
     "output_type": "stream",
     "text": [
      "/tmp/ipykernel_32/1173608574.py:6: DtypeWarning: Columns (7,8,9,10) have mixed types. Specify dtype option on import or set low_memory=False.\n",
      "  options = pd.read_csv(os.path.join(root, \"train_files/options.csv\"))\n"
     ]
    }
   ],
   "source": [
    "# root = \"/kaggle/input/jpx-tokyo-stock-exchange-prediction/\"\n",
    "\n",
    "# stock_prices = pd.read_csv(os.path.join(dirname, \"stock_prices.csv\"))\n",
    "\n",
    "train = pd.read_csv(\"train.csv\")\n",
    "\n",
    "data = train.set_index([\"stock_id\", \"date_id\", \"seconds_in_bucket\"])\n",
    "\n",
    "data[\"impalance_buy_sell\"] = data.imbalance_size * data.imbalance_buy_sell_flag\n",
    "\n"
   ]
  }
 ],
 "metadata": {
  "kernelspec": {
   "display_name": "Python 3",
   "language": "python",
   "name": "python3"
  },
  "language_info": {
   "codemirror_mode": {
    "name": "ipython",
    "version": 3
   },
   "file_extension": ".py",
   "mimetype": "text/x-python",
   "name": "python",
   "nbconvert_exporter": "python",
   "pygments_lexer": "ipython3",
   "version": "3.10.12"
  }
 },
 "nbformat": 4,
 "nbformat_minor": 4
}
