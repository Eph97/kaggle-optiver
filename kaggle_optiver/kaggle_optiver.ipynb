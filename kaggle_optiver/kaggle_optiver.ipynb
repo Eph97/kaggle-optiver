{
 "cells": [
  {
   "cell_type": "code",
   "execution_count": 1,
   "metadata": {
    "_cell_guid": "b1076dfc-b9ad-4769-8c92-a6c4dae69d19",
    "_uuid": "8f2839f25d086af736a60e9eeb907d3b93b6e0e5",
    "execution": {
     "iopub.execute_input": "2023-08-18T21:57:53.266882Z",
     "iopub.status.busy": "2023-08-18T21:57:53.266515Z",
     "iopub.status.idle": "2023-08-18T21:57:53.350948Z",
     "shell.execute_reply": "2023-08-18T21:57:53.349490Z",
     "shell.execute_reply.started": "2023-08-18T21:57:53.266850Z"
    }
   },
   "outputs": [],
   "source": [
    "# This Python 3 environment comes with many helpful analytics libraries installed\n",
    "# It is defined by the kaggle/python Docker image: https://github.com/kaggle/docker-python\n",
    "# For example, here's several helpful packages to load\n",
    "\n",
    "import numpy as np # linear algebra\n",
    "import pandas as pd # data processing, CSV file I/O (e.g. pd.read_csv)\n",
    "from scipy import stats\n",
    "from sklearn.model_selection import train_test_split\n",
    "from sklearn.linear_model import LinearRegression\n",
    "\n",
    "\n",
    "# Input data files are available in the read-only \"../input/\" directory\n",
    "# For example, running this (by clicking run or pressing Shift+Enter) will list all files under the input directory\n",
    "\n",
    "import os\n",
    "for dirname, _, filenames in os.walk('/kaggle/input'):\n",
    "    for filename in filenames:\n",
    "        print(os.path.join(dirname, filename))\n",
    "\n",
    "# You can write up to 20GB to the current directory (/kaggle/working/) that gets preserved as output when you create a version using \"Save & Run All\"\n",
    "# You can also write temporary files to /kaggle/temp/, but they won't be saved outside of the current session"
   ]
  },
  {
   "cell_type": "code",
   "execution_count": 2,
   "metadata": {
    "execution": {
     "iopub.execute_input": "2023-08-18T22:38:26.851862Z",
     "iopub.status.busy": "2023-08-18T22:38:26.851477Z",
     "iopub.status.idle": "2023-08-18T22:38:35.853787Z",
     "shell.execute_reply": "2023-08-18T22:38:35.852860Z",
     "shell.execute_reply.started": "2023-08-18T22:38:26.851831Z"
    }
   },
   "outputs": [],
   "source": [
    "# stock_prices = pd.read_csv(os.path.join(dirname, \"stock_prices.csv\"))\n",
    "\n",
    "train = pd.read_csv(\"train.csv\")\n",
    "\n"
   ]
  },
  {
   "cell_type": "code",
   "execution_count": 3,
   "metadata": {},
   "outputs": [],
   "source": [
    "train[[\"matched_size\", \"imbalance_size\", \"imbalance_buy_sell_flag\"]]\n",
    "\n",
    "train[train.matched_size == 0]\n",
    "\n",
    "train[\"matched_ratio\"] = train.imbalance_buy_sell_flag*train.imbalance_size/train.matched_size\n",
    "# train[\"test_ratio\"] = train.imbalance_buy_sell_flag*train.matched_size/train.imbalance_size"
   ]
  },
  {
   "cell_type": "code",
   "execution_count": 4,
   "metadata": {},
   "outputs": [
    {
     "data": {
      "text/plain": [
       "array([  0,  10,  20,  30,  40,  50,  60,  70,  80,  90, 100, 110, 120,\n",
       "       130, 140, 150, 160, 170, 180, 190, 200, 210, 220, 230, 240, 250,\n",
       "       260, 270, 280, 290, 300, 310, 320, 330, 340, 350, 360, 370, 380,\n",
       "       390, 400, 410, 420, 430, 440, 450, 460, 470, 480, 490, 500, 510,\n",
       "       520, 530, 540])"
      ]
     },
     "execution_count": 4,
     "metadata": {},
     "output_type": "execute_result"
    }
   ],
   "source": [
    "stock_id = train[train.matched_ratio.isna()].stock_id.unique()\n",
    "train[train.stock_id.isin(stock_id)].seconds_in_bucket.unique()"
   ]
  },
  {
   "cell_type": "markdown",
   "metadata": {},
   "source": [
    "here we can see that some stocks don't have an auction"
   ]
  },
  {
   "cell_type": "code",
   "execution_count": 5,
   "metadata": {},
   "outputs": [],
   "source": [
    "\n",
    "def make_data(df, train=0, full_data=False):\n",
    "\tdata = df.copy()\n",
    "\t# data = df.set_index([\"stock_id\", \"date_id\", \"seconds_in_bucket\"])\n",
    "\n",
    "\tdata[\"imbalance_buy_sell\"] = data.imbalance_size * data.imbalance_buy_sell_flag\n",
    "\n",
    "\tparams = [\"imbalance_buy_sell\", \"reference_price\", \"matched_size\", \"wap_logreturns\", \"matched_ratio\"]\n",
    "\n",
    "\t# data[\"wap_logreturns\"] = np.log(data.wap/data.wap.shift(1))\n",
    "\n",
    "\tdata[\"prev_wap\"] = data.groupby([\"date_id\", \"stock_id\"]).wap.shift(1)\n",
    "\n",
    "\t# data[\"prev_wap\"] = data[\"prev_wap\"].fillna(0)\n",
    "\n",
    "\tdata[\"wap_logreturns\"] = np.log(data.wap / data.prev_wap)\n",
    "\n",
    "\tdata[\"matched_ratio\"] = data.imbalance_buy_sell_flag*data.imbalance_size/data.matched_size\n",
    "\n",
    "\t# data[\"wap_man\"] = data.eval(\"(bid_price*ask_size + ask_price*bid_size)/(bid_size + ask_size)\")\n",
    "\n",
    "\tdata[\"imb_s1\"] = data.eval('(bid_size - ask_size)/(bid_size + ask_size)')\n",
    "\tdata[\"imb_s2\"] = data.eval('(imbalance_size - matched_size)/(matched_size + imbalance_size)')\n",
    "\n",
    "\t\n",
    "\n",
    "\t# data[\"matched_ratio\"] = data[\"matched_ratio\"].fillna(0)\n",
    "\n",
    "\t# data[\"wap_logreturns\"] = data[\"wap_logreturns\"].fillna(0)\n",
    "\n",
    "\t# data.replace([np.inf, -np.inf], np.nan, inplace=True)\n",
    "\t# data['ewa6'] = data.groupby([\"stock_id\",\"date_id\"]).wap.transform(lambda x : x.ewm(span=6, adjust=False).mean()).values\n",
    "\t# data['ewa12'] = data.groupby([\"stock_id\",\"date_id\"]).wap.transform(lambda x : x.ewm(span=12, adjust=False).mean()).values\n",
    "\n",
    "\tif full_data == True:\n",
    "\t\treturn data\n",
    "\n",
    "\tdata = data.fillna(0)\n",
    "\tfeatures = [\"wap_logreturns\", \"matched_ratio\", \"imb_s1\", \"imb_s2\", \"imbalance_buy_sell_flag\"]\n",
    "\tif train == 0:\n",
    "\t\tX = data[features].to_numpy()\n",
    "\t\ty = data.target.to_numpy()\n",
    "\t\t# y = np.array(data.target).reshape(-1,1)\n",
    "\t\treturn X[np.isfinite(X).all(1)], y[np.isfinite(X).all(1)]\n",
    "\t\t# return X, y\n",
    "\n",
    "\tX = data[features].copy()\n",
    "\n",
    "\t# X.wap_logreturns = X.wap_logreturns.fillna(0)\n",
    "\t# X.matched_ratio = X.matched_ratio.fillna(0)\n",
    "\t# X.fillna(0,inplace=True)\n",
    "\n",
    "\n",
    "\n",
    "\treturn X.to_numpy()\n"
   ]
  },
  {
   "cell_type": "code",
   "execution_count": 6,
   "metadata": {},
   "outputs": [
    {
     "data": {
      "text/plain": [
       "0          10199673.95\n",
       "1           1475610.34\n",
       "2           1516488.16\n",
       "3           6472063.35\n",
       "4          17413064.99\n",
       "              ...     \n",
       "5237975    25839638.85\n",
       "5237976     8838188.64\n",
       "5237977    12725436.10\n",
       "5237978    93772372.21\n",
       "5237979    22189391.61\n",
       "Length: 5237980, dtype: float64"
      ]
     },
     "execution_count": 6,
     "metadata": {},
     "output_type": "execute_result"
    }
   ],
   "source": [
    "df = make_data(train, full_data=True)\n",
    "\n",
    "df[(df.matched_size - df.imbalance_size < 0)]\n",
    "\n",
    "df.eval(\"(matched_size - imbalance_size)\").abs()"
   ]
  },
  {
   "cell_type": "code",
   "execution_count": null,
   "metadata": {},
   "outputs": [],
   "source": []
  },
  {
   "cell_type": "code",
   "execution_count": 7,
   "metadata": {},
   "outputs": [],
   "source": [
    "X, y = make_data(train)\n",
    "\n",
    "X_train, X_test, y_train, y_test = train_test_split(X,y ,\n",
    "                                   random_state=104,\n",
    "                                   test_size=0.25,\n",
    "                                   shuffle=True)"
   ]
  },
  {
   "cell_type": "code",
   "execution_count": 8,
   "metadata": {},
   "outputs": [
    {
     "data": {
      "text/html": [
       "<style>#sk-container-id-1 {color: black;}#sk-container-id-1 pre{padding: 0;}#sk-container-id-1 div.sk-toggleable {background-color: white;}#sk-container-id-1 label.sk-toggleable__label {cursor: pointer;display: block;width: 100%;margin-bottom: 0;padding: 0.3em;box-sizing: border-box;text-align: center;}#sk-container-id-1 label.sk-toggleable__label-arrow:before {content: \"▸\";float: left;margin-right: 0.25em;color: #696969;}#sk-container-id-1 label.sk-toggleable__label-arrow:hover:before {color: black;}#sk-container-id-1 div.sk-estimator:hover label.sk-toggleable__label-arrow:before {color: black;}#sk-container-id-1 div.sk-toggleable__content {max-height: 0;max-width: 0;overflow: hidden;text-align: left;background-color: #f0f8ff;}#sk-container-id-1 div.sk-toggleable__content pre {margin: 0.2em;color: black;border-radius: 0.25em;background-color: #f0f8ff;}#sk-container-id-1 input.sk-toggleable__control:checked~div.sk-toggleable__content {max-height: 200px;max-width: 100%;overflow: auto;}#sk-container-id-1 input.sk-toggleable__control:checked~label.sk-toggleable__label-arrow:before {content: \"▾\";}#sk-container-id-1 div.sk-estimator input.sk-toggleable__control:checked~label.sk-toggleable__label {background-color: #d4ebff;}#sk-container-id-1 div.sk-label input.sk-toggleable__control:checked~label.sk-toggleable__label {background-color: #d4ebff;}#sk-container-id-1 input.sk-hidden--visually {border: 0;clip: rect(1px 1px 1px 1px);clip: rect(1px, 1px, 1px, 1px);height: 1px;margin: -1px;overflow: hidden;padding: 0;position: absolute;width: 1px;}#sk-container-id-1 div.sk-estimator {font-family: monospace;background-color: #f0f8ff;border: 1px dotted black;border-radius: 0.25em;box-sizing: border-box;margin-bottom: 0.5em;}#sk-container-id-1 div.sk-estimator:hover {background-color: #d4ebff;}#sk-container-id-1 div.sk-parallel-item::after {content: \"\";width: 100%;border-bottom: 1px solid gray;flex-grow: 1;}#sk-container-id-1 div.sk-label:hover label.sk-toggleable__label {background-color: #d4ebff;}#sk-container-id-1 div.sk-serial::before {content: \"\";position: absolute;border-left: 1px solid gray;box-sizing: border-box;top: 0;bottom: 0;left: 50%;z-index: 0;}#sk-container-id-1 div.sk-serial {display: flex;flex-direction: column;align-items: center;background-color: white;padding-right: 0.2em;padding-left: 0.2em;position: relative;}#sk-container-id-1 div.sk-item {position: relative;z-index: 1;}#sk-container-id-1 div.sk-parallel {display: flex;align-items: stretch;justify-content: center;background-color: white;position: relative;}#sk-container-id-1 div.sk-item::before, #sk-container-id-1 div.sk-parallel-item::before {content: \"\";position: absolute;border-left: 1px solid gray;box-sizing: border-box;top: 0;bottom: 0;left: 50%;z-index: -1;}#sk-container-id-1 div.sk-parallel-item {display: flex;flex-direction: column;z-index: 1;position: relative;background-color: white;}#sk-container-id-1 div.sk-parallel-item:first-child::after {align-self: flex-end;width: 50%;}#sk-container-id-1 div.sk-parallel-item:last-child::after {align-self: flex-start;width: 50%;}#sk-container-id-1 div.sk-parallel-item:only-child::after {width: 0;}#sk-container-id-1 div.sk-dashed-wrapped {border: 1px dashed gray;margin: 0 0.4em 0.5em 0.4em;box-sizing: border-box;padding-bottom: 0.4em;background-color: white;}#sk-container-id-1 div.sk-label label {font-family: monospace;font-weight: bold;display: inline-block;line-height: 1.2em;}#sk-container-id-1 div.sk-label-container {text-align: center;}#sk-container-id-1 div.sk-container {/* jupyter's `normalize.less` sets `[hidden] { display: none; }` but bootstrap.min.css set `[hidden] { display: none !important; }` so we also need the `!important` here to be able to override the default hidden behavior on the sphinx rendered scikit-learn.org. See: https://github.com/scikit-learn/scikit-learn/issues/21755 */display: inline-block !important;position: relative;}#sk-container-id-1 div.sk-text-repr-fallback {display: none;}</style><div id=\"sk-container-id-1\" class=\"sk-top-container\"><div class=\"sk-text-repr-fallback\"><pre>LinearRegression()</pre><b>In a Jupyter environment, please rerun this cell to show the HTML representation or trust the notebook. <br />On GitHub, the HTML representation is unable to render, please try loading this page with nbviewer.org.</b></div><div class=\"sk-container\" hidden><div class=\"sk-item\"><div class=\"sk-estimator sk-toggleable\"><input class=\"sk-toggleable__control sk-hidden--visually\" id=\"sk-estimator-id-1\" type=\"checkbox\" checked><label for=\"sk-estimator-id-1\" class=\"sk-toggleable__label sk-toggleable__label-arrow\">LinearRegression</label><div class=\"sk-toggleable__content\"><pre>LinearRegression()</pre></div></div></div></div></div>"
      ],
      "text/plain": [
       "LinearRegression()"
      ]
     },
     "execution_count": 8,
     "metadata": {},
     "output_type": "execute_result"
    }
   ],
   "source": [
    "model = LinearRegression()\n",
    "model.fit(X_train,y_train)\n"
   ]
  },
  {
   "cell_type": "code",
   "execution_count": 9,
   "metadata": {},
   "outputs": [],
   "source": [
    "model.coef_\n",
    "\n",
    "predict_target = model.predict(X)"
   ]
  },
  {
   "cell_type": "code",
   "execution_count": 10,
   "metadata": {},
   "outputs": [
    {
     "data": {
      "text/plain": [
       "array([  0,  10,  20,  30,  40,  50,  60,  70,  80,  90, 100, 110, 120,\n",
       "       130, 140, 150, 160, 170, 180, 190, 200, 210, 220, 230, 240, 250,\n",
       "       260, 270, 280, 290, 300, 310, 320, 330, 340, 350, 360, 370, 380,\n",
       "       390, 400, 410, 420, 430, 440, 450, 460, 470, 480, 490, 500, 510,\n",
       "       520, 530, 540])"
      ]
     },
     "execution_count": 10,
     "metadata": {},
     "output_type": "execute_result"
    }
   ],
   "source": [
    "# train[train.seconds_in_bucket > 10].head()\n",
    "# train.loc[train.stock_id==1,['target', 'time_id', 'stock_id', 'seconds_in_bucket']]\n",
    "train[train.stock_id==1]['seconds_in_bucket'].unique()"
   ]
  },
  {
   "cell_type": "code",
   "execution_count": 11,
   "metadata": {},
   "outputs": [
    {
     "data": {
      "text/html": [
       "<div>\n",
       "<style scoped>\n",
       "    .dataframe tbody tr th:only-of-type {\n",
       "        vertical-align: middle;\n",
       "    }\n",
       "\n",
       "    .dataframe tbody tr th {\n",
       "        vertical-align: top;\n",
       "    }\n",
       "\n",
       "    .dataframe thead th {\n",
       "        text-align: right;\n",
       "    }\n",
       "</style>\n",
       "<table border=\"1\" class=\"dataframe\">\n",
       "  <thead>\n",
       "    <tr style=\"text-align: right;\">\n",
       "      <th></th>\n",
       "      <th>0</th>\n",
       "    </tr>\n",
       "  </thead>\n",
       "  <tbody>\n",
       "    <tr>\n",
       "      <th>count</th>\n",
       "      <td>5.237980e+06</td>\n",
       "    </tr>\n",
       "    <tr>\n",
       "      <th>mean</th>\n",
       "      <td>-4.700479e-02</td>\n",
       "    </tr>\n",
       "    <tr>\n",
       "      <th>std</th>\n",
       "      <td>1.164468e+00</td>\n",
       "    </tr>\n",
       "    <tr>\n",
       "      <th>min</th>\n",
       "      <td>-2.444604e+01</td>\n",
       "    </tr>\n",
       "    <tr>\n",
       "      <th>25%</th>\n",
       "      <td>-9.335093e-01</td>\n",
       "    </tr>\n",
       "    <tr>\n",
       "      <th>50%</th>\n",
       "      <td>-4.088758e-02</td>\n",
       "    </tr>\n",
       "    <tr>\n",
       "      <th>75%</th>\n",
       "      <td>8.481626e-01</td>\n",
       "    </tr>\n",
       "    <tr>\n",
       "      <th>max</th>\n",
       "      <td>3.069427e+01</td>\n",
       "    </tr>\n",
       "  </tbody>\n",
       "</table>\n",
       "</div>"
      ],
      "text/plain": [
       "                  0\n",
       "count  5.237980e+06\n",
       "mean  -4.700479e-02\n",
       "std    1.164468e+00\n",
       "min   -2.444604e+01\n",
       "25%   -9.335093e-01\n",
       "50%   -4.088758e-02\n",
       "75%    8.481626e-01\n",
       "max    3.069427e+01"
      ]
     },
     "execution_count": 11,
     "metadata": {},
     "output_type": "execute_result"
    }
   ],
   "source": [
    "pd.DataFrame(predict_target).describe()"
   ]
  },
  {
   "cell_type": "code",
   "execution_count": 12,
   "metadata": {},
   "outputs": [
    {
     "data": {
      "text/plain": [
       "DescribeResult(nobs=5237980, minmax=(-24.446041803810186, 30.69426906777006), mean=-0.047004785990314775, variance=1.3559861573020044, skewness=-0.020295488676681576, kurtosis=-0.30614172276628526)"
      ]
     },
     "execution_count": 12,
     "metadata": {},
     "output_type": "execute_result"
    }
   ],
   "source": [
    "\n",
    "stats.describe(predict_target)\n",
    "\n"
   ]
  },
  {
   "cell_type": "code",
   "execution_count": 13,
   "metadata": {},
   "outputs": [],
   "source": [
    "import optiver2023\n",
    "\n",
    "env = optiver2023.make_env()\n",
    "iter_test = env.iter_test()\n"
   ]
  },
  {
   "cell_type": "code",
   "execution_count": 14,
   "metadata": {},
   "outputs": [
    {
     "name": "stdout",
     "output_type": "stream",
     "text": [
      "This version of the API is not optimized and should not be used to estimate the runtime of your code on the hidden test set.\n"
     ]
    }
   ],
   "source": [
    "counter = 0\n",
    "for (test, revealed_targets, sample_prediction) in iter_test:\n",
    "    X = make_data(test, train=1)\n",
    "    sample_prediction['target'] = model.predict(X)\n",
    "    # sample_prediction['target'] = 0.5\n",
    "    env.predict(sample_prediction)\n",
    "    counter += 1"
   ]
  },
  {
   "cell_type": "code",
   "execution_count": 15,
   "metadata": {},
   "outputs": [
    {
     "name": "stdout",
     "output_type": "stream",
     "text": [
      "480_540_190,1.0610191893325995\n",
      "480_540_191,-0.3541315949536374\n",
      "480_540_192,-0.6124456666407581\n",
      "480_540_193,0.023973161389017027\n",
      "480_540_194,0.9815181355444038\n",
      "480_540_195,1.117856675182424\n",
      "480_540_196,-0.9705855097864727\n",
      "480_540_197,1.341672986093307\n",
      "480_540_198,1.307507776236449\n",
      "480_540_199,-0.15137476585857873\n"
     ]
    },
    {
     "name": "stderr",
     "output_type": "stream",
     "text": [
      "/tmp/ipykernel_888010/1503078690.py:3: DtypeWarning: Columns (1) have mixed types. Specify dtype option on import or set low_memory=False.\n",
      "  sub = pd.read_csv(\"submission.csv\")\n"
     ]
    }
   ],
   "source": [
    "!tail submission.csv\n",
    "# sub = pd.read_csv(\"./example_test_files/sample_submission.csv\")\n",
    "sub = pd.read_csv(\"submission.csv\")\n",
    "\n",
    "test = pd.read_csv(\"./example_test_files/test.csv\")\n",
    "\n",
    "revealed = pd.read_csv(\"./example_test_files/revealed_targets.csv\")\n",
    "\n",
    "\n",
    "# test.merge"
   ]
  },
  {
   "cell_type": "code",
   "execution_count": 16,
   "metadata": {},
   "outputs": [],
   "source": [
    "sub = sub[sub.target != \"target\"]\n",
    "sub.target = sub.target.astype(float)"
   ]
  },
  {
   "cell_type": "code",
   "execution_count": 17,
   "metadata": {},
   "outputs": [],
   "source": [
    "ans = train[[\"row_id\", \"target\"]].merge(sub, on=\"row_id\", how=\"right\")"
   ]
  },
  {
   "cell_type": "code",
   "execution_count": 18,
   "metadata": {},
   "outputs": [
    {
     "data": {
      "text/plain": [
       "5.278030790748476"
      ]
     },
     "execution_count": 18,
     "metadata": {},
     "output_type": "execute_result"
    }
   ],
   "source": [
    "mae = np.mean(np.abs(ans.target_x - ans.target_y))\n",
    "mae"
   ]
  },
  {
   "cell_type": "markdown",
   "metadata": {},
   "source": [
    "Original Naive Estimate: 5.27941\n",
    "\n",
    "With bid-ask size imbalance: 5.279170945560908\n",
    "\n",
    "As above but adding imbalance-matched difference ratio: 5.278630645573058"
   ]
  }
 ],
 "metadata": {
  "kernelspec": {
   "display_name": "optiver_env",
   "language": "python",
   "name": "optiver_env"
  },
  "language_info": {
   "codemirror_mode": {
    "name": "ipython",
    "version": 3
   },
   "file_extension": ".py",
   "mimetype": "text/x-python",
   "name": "python",
   "nbconvert_exporter": "python",
   "pygments_lexer": "ipython3",
   "version": "3.10.13"
  }
 },
 "nbformat": 4,
 "nbformat_minor": 4
}
